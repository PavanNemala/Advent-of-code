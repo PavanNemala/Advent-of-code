{
 "cells": [
  {
   "cell_type": "markdown",
   "metadata": {},
   "source": [
    "1. To make sure you didn't miss any, you scan the likely candidate boxes again, counting the number that have an ID containing exactly two of any letter and then separately counting those with exactly three of any letter. You can multiply those two counts together to get a rudimentary checksum and compare it to what your device predicts.\n",
    "\n",
    "For example, if you see the following box IDs:\n",
    "\n",
    "abcdef contains no letters that appear exactly two or three times.\n",
    "bababc contains two a and three b, so it counts for both.\n",
    "abbcde contains two b, but no letter appears exactly three times.\n",
    "abcccd contains three c, but no letter appears exactly two times.\n",
    "aabcdd contains two a and two d, but it only counts once.\n",
    "abcdee contains two e.\n",
    "ababab contains three a and three b, but it only counts once.\n",
    "Of these box IDs, four of them contain a letter which appears exactly twice, and three of them contain a letter which appears exactly three times. Multiplying these together produces a checksum of 4 * 3 = 12."
   ]
  },
  {
   "cell_type": "code",
   "execution_count": 28,
   "metadata": {},
   "outputs": [],
   "source": [
    "with open(\"1.txt\",\"r\") as f:\n",
    "    t = f.readlines()\n",
    "l = []\n",
    "for i in t:\n",
    "    l.append(i.strip())\n"
   ]
  },
  {
   "cell_type": "code",
   "execution_count": 52,
   "metadata": {},
   "outputs": [
    {
     "name": "stdout",
     "output_type": "stream",
     "text": [
      "6225\n"
     ]
    }
   ],
   "source": [
    "import collections\n",
    "two = 0\n",
    "three = 0\n",
    "for i in l:\n",
    "    c = dict(collections.Counter(i))\n",
    "    c = list(c.values())\n",
    "    if 2 in c:\n",
    "        two = two + 1\n",
    "    if 3 in c:\n",
    "        three = three + 1\n",
    "checksum = two * three\n",
    "print(checksum)"
   ]
  },
  {
   "cell_type": "code",
   "execution_count": null,
   "metadata": {},
   "outputs": [],
   "source": []
  }
 ],
 "metadata": {
  "kernelspec": {
   "display_name": "Python 3",
   "language": "python",
   "name": "python3"
  },
  "language_info": {
   "codemirror_mode": {
    "name": "ipython",
    "version": 3
   },
   "file_extension": ".py",
   "mimetype": "text/x-python",
   "name": "python",
   "nbconvert_exporter": "python",
   "pygments_lexer": "ipython3",
   "version": "3.6.5"
  }
 },
 "nbformat": 4,
 "nbformat_minor": 2
}
